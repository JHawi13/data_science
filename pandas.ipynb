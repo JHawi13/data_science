{
 "cells": [
  {
   "cell_type": "code",
   "execution_count": 4,
   "metadata": {},
   "outputs": [
    {
     "name": "stdout",
     "output_type": "stream",
     "text": [
      "<module 'numpy._version' from 'C:\\\\Users\\\\emper\\\\AppData\\\\Local\\\\Packages\\\\PythonSoftwareFoundation.Python.3.11_qbz5n2kfra8p0\\\\LocalCache\\\\local-packages\\\\Python311\\\\site-packages\\\\numpy\\\\_version.py'>\n",
      "<module 'pandas._version' from 'C:\\\\Users\\\\emper\\\\AppData\\\\Local\\\\Packages\\\\PythonSoftwareFoundation.Python.3.11_qbz5n2kfra8p0\\\\LocalCache\\\\local-packages\\\\Python311\\\\site-packages\\\\pandas\\\\_version.py'>\n"
     ]
    }
   ],
   "source": [
    "import pandas as pd \n",
    "import numpy as np\n",
    "print(np._version)\n",
    "print(pd._version)"
   ]
  },
  {
   "cell_type": "code",
   "execution_count": 13,
   "metadata": {},
   "outputs": [
    {
     "name": "stdout",
     "output_type": "stream",
     "text": [
      "      new  month\n",
      "day1    4    jan\n",
      "day2    5    feb\n",
      "day3    6  march\n",
      "day4    7  April\n"
     ]
    }
   ],
   "source": [
    "a={\"new\":[4,5,6,7],\n",
    "   \"month\":[\"jan\",\"feb\",\"march\",\"April\"]}\n",
    "table=pd.DataFrame(a,index=[\"day1\",\"day2\",\"day3\",\"day4\"])\n",
    "print(table)"
   ]
  }
 ],
 "metadata": {
  "kernelspec": {
   "display_name": "Python 3",
   "language": "python",
   "name": "python3"
  },
  "language_info": {
   "codemirror_mode": {
    "name": "ipython",
    "version": 3
   },
   "file_extension": ".py",
   "mimetype": "text/x-python",
   "name": "python",
   "nbconvert_exporter": "python",
   "pygments_lexer": "ipython3",
   "version": "3.11.2"
  },
  "orig_nbformat": 4
 },
 "nbformat": 4,
 "nbformat_minor": 2
}
